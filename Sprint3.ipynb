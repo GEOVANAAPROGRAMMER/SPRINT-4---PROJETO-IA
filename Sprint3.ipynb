{
  "nbformat": 4,
  "nbformat_minor": 0,
  "metadata": {
    "colab": {
      "provenance": []
    },
    "kernelspec": {
      "name": "python3",
      "display_name": "Python 3"
    },
    "language_info": {
      "name": "python"
    }
  },
  "cells": [
    {
      "cell_type": "code",
      "source": [
        "from google.colab import drive\n",
        "drive.mount('/content/drive')"
      ],
      "metadata": {
        "colab": {
          "base_uri": "https://localhost:8080/"
        },
        "id": "O4J4fBdw9TUY",
        "outputId": "f0f476cc-19ea-4d3b-bbd4-a5aa42cc6c15"
      },
      "execution_count": null,
      "outputs": [
        {
          "output_type": "stream",
          "name": "stdout",
          "text": [
            "Drive already mounted at /content/drive; to attempt to forcibly remount, call drive.mount(\"/content/drive\", force_remount=True).\n"
          ]
        }
      ]
    },
    {
      "cell_type": "code",
      "source": [
        "import tensorflow as tf\n",
        "from tensorflow import keras"
      ],
      "metadata": {
        "id": "yHZ0lPJNBIIF"
      },
      "execution_count": null,
      "outputs": []
    },
    {
      "cell_type": "code",
      "source": [
        "!pip install opencv-python\n",
        "\n",
        "import cv2"
      ],
      "metadata": {
        "colab": {
          "base_uri": "https://localhost:8080/"
        },
        "id": "JCDm_unpBOuT",
        "outputId": "0a8c28e1-63b7-4d0b-bca4-00d590719a4a"
      },
      "execution_count": null,
      "outputs": [
        {
          "output_type": "stream",
          "name": "stdout",
          "text": [
            "Requirement already satisfied: opencv-python in /usr/local/lib/python3.10/dist-packages (4.8.0.76)\n",
            "Requirement already satisfied: numpy>=1.21.2 in /usr/local/lib/python3.10/dist-packages (from opencv-python) (1.23.5)\n"
          ]
        }
      ]
    },
    {
      "cell_type": "code",
      "source": [
        "!pip install Pillow"
      ],
      "metadata": {
        "colab": {
          "base_uri": "https://localhost:8080/"
        },
        "id": "friKfnMiBY47",
        "outputId": "c74f0b8c-72bf-4d7d-e92c-6708991c579e"
      },
      "execution_count": null,
      "outputs": [
        {
          "output_type": "stream",
          "name": "stdout",
          "text": [
            "Requirement already satisfied: Pillow in /usr/local/lib/python3.10/dist-packages (9.4.0)\n"
          ]
        }
      ]
    },
    {
      "cell_type": "code",
      "source": [
        "from keras.models import load_model\n",
        "import numpy as np"
      ],
      "metadata": {
        "id": "tZnUlQBhEohL"
      },
      "execution_count": null,
      "outputs": []
    },
    {
      "cell_type": "code",
      "source": [
        "from keras.models import load_model  # TensorFlow é necessário para o Keras funcionar\n",
        "from PIL import Image, ImageOps  # Instale pillow em vez de PIL\n",
        "import numpy as np\n",
        "\n",
        "# Desativar a notação científica para clareza\n",
        "np.set_printoptions(suppress=True)\n",
        "\n",
        "# Carregar o modelo\n",
        "model = load_model(\"/content/drive/MyDrive/CAMINHÕES/keras_model.h5\", compile=False)\n",
        "\n",
        "# Carregar os rótulos\n",
        "class_names = open(\"/content/drive/MyDrive/CAMINHÕES/labels.txt\", \"r\").readlines()\n",
        "\n",
        "# Criar o array da forma certa para alimentar o modelo keras\n",
        "# O 'comprimento' ou número de imagens que você pode colocar no array é\n",
        "# determinado pela primeira posição na tupla de forma, neste caso 1\n",
        "data = np.ndarray(shape=(1, 224, 224, 3), dtype=np.float32)\n",
        "\n",
        "# Substitua isso pelo caminho da sua imagem\n",
        "image = Image.open(\"/content/drive/MyDrive/CAMINHÕES/medio.jpg\").convert(\"RGB\")\n",
        "\n",
        "# redimensionando a imagem para ter pelo menos 224x224 e depois cortando do centro\n",
        "size = (224, 224)\n",
        "image = ImageOps.fit(image, size, Image.Resampling.LANCZOS)\n",
        "\n",
        "# transformar a imagem em um array numpy\n",
        "image_array = np.asarray(image)\n",
        "\n",
        "# Normalizar a imagem\n",
        "normalized_image_array = (image_array.astype(np.float32) / 127.5) - 1\n",
        "\n",
        "# Carregar a imagem no array\n",
        "data[0] = normalized_image_array\n",
        "\n",
        "confidence_threshold = 0.70\n",
        "\n",
        "# Predicts the model\n",
        "prediction = model.predict(data)\n",
        "index = np.argmax(prediction)\n",
        "class_name = class_names[index]\n",
        "confidence_score = prediction[0][index]\n",
        "\n",
        "# Verificar as previsões e imprimir resultados\n",
        "if prediction[0][0] > confidence_threshold:\n",
        "    print(\"Este é um caminhão de pequeno porte. Envie o guincho Plataforma.\")\n",
        "    print(\"Class:\", class_name[0:], end=\"\")\n",
        "    print(\"Confidence Score:  {:.2f}\".format(confidence_score))\n",
        "elif prediction[0][2] > confidence_threshold:\n",
        "    print(\"Este é um caminhão de grande porte. Envie o guincho Lança.\")\n",
        "    print(\"Class:\", class_name[2:], end=\"\")\n",
        "    print(\"Confidence Score:  {:.2f}\".format(confidence_score))\n",
        "elif prediction[0][3] > confidence_threshold:\n",
        "    print(\"Este caminhão está danificado. Envie o guincho Plataforma.\")\n",
        "    print(\"Class:\", class_name[3:], end=\"\")\n",
        "    print(\"Confidence Score:  {:.2f}\".format(confidence_score))\n",
        "else:\n",
        "    print(\"Imagem não identificada. Tente tirar a foto de outro ângulo.\")\n"
      ],
      "metadata": {
        "colab": {
          "base_uri": "https://localhost:8080/"
        },
        "id": "tN1XbrwcE0aX",
        "outputId": "ce47d8d8-9d62-47cb-d5bc-e6880607956b"
      },
      "execution_count": null,
      "outputs": [
        {
          "output_type": "stream",
          "name": "stderr",
          "text": [
            "WARNING:tensorflow:5 out of the last 5 calls to <function Model.make_predict_function.<locals>.predict_function at 0x7cb4e7ce0dc0> triggered tf.function retracing. Tracing is expensive and the excessive number of tracings could be due to (1) creating @tf.function repeatedly in a loop, (2) passing tensors with different shapes, (3) passing Python objects instead of tensors. For (1), please define your @tf.function outside of the loop. For (2), @tf.function has reduce_retracing=True option that can avoid unnecessary retracing. For (3), please refer to https://www.tensorflow.org/guide/function#controlling_retracing and https://www.tensorflow.org/api_docs/python/tf/function for  more details.\n"
          ]
        },
        {
          "output_type": "stream",
          "name": "stdout",
          "text": [
            "1/1 [==============================] - 1s 830ms/step\n",
            "Este caminhão está danificado. Envie o guincho Plataforma.\n",
            "Class: aminhões danificados\n",
            "Confidence Score:  0.99\n"
          ]
        }
      ]
    }
  ]
}